{
    "cells": [
        {
            "metadata": {},
            "cell_type": "code",
            "source": "x=[1,2,4,5,34,1,32,4,34,2,1,3]\nmean=sum(x)/len(x)\nprint(mean)                                      ## Find the mean",
            "execution_count": 14,
            "outputs": [
                {
                    "output_type": "stream",
                    "text": "10.25\n",
                    "name": "stdout"
                }
            ]
        },
        {
            "metadata": {},
            "cell_type": "code",
            "source": "from statistics import median\nx1=[1,2,4,5,34,1,32,4,34,2,1,3]\nresult = median(x1)\nprint(result)                                    ## Find the median",
            "execution_count": 36,
            "outputs": [
                {
                    "output_type": "stream",
                    "text": "3.5\n",
                    "name": "stdout"
                }
            ]
        },
        {
            "metadata": {},
            "cell_type": "code",
            "source": "from statistics import stdev\nx2=[34,1,23,4,3,3,12,4,3,1]\nstandard_deviation=round(stdev(x2),4)\nprint(standard_deviation)                        ## Find the standard deviation",
            "execution_count": 50,
            "outputs": [
                {
                    "output_type": "stream",
                    "text": "11.1335\n",
                    "name": "stdout"
                }
            ]
        },
        {
            "metadata": {},
            "cell_type": "code",
            "source": "from statistics import stdev\nx3 = [34,1,23,4,3,3,12,4,3,1]\nmx3 = sum(x3)/len(x3)\nstdev3 = stdev(x3)\nabout = [pow(x - mx3,4)/pow(stdev3,4) for x in x3]\nkurtosis=round(sum(about)/len(about),4)\nprint(kurtosis)                                   ## Find the kurtosis",
            "execution_count": 88,
            "outputs": [
                {
                    "output_type": "stream",
                    "text": "2.9671\n",
                    "name": "stdout"
                }
            ]
        },
        {
            "metadata": {},
            "cell_type": "code",
            "source": "x4 = [34,1,23,4,3,3,12,4,3,1]\nmx4 = sum(x4)/len(x4)\ninner = [pow(x - mx4, 2) for x in x4]\nstdev4 = pow(sum(inner)/(len(x4)-1),0.5)\n\ninnersk = [pow(x - mx4,3)/pow(stdev4,3) for x in x4]\nskewness = round(sum(innersk)/len(x4),4)\nprint(skewness)                                   ## Find the skewness",
            "execution_count": 87,
            "outputs": [
                {
                    "output_type": "stream",
                    "text": "1.2422\n",
                    "name": "stdout"
                }
            ]
        },
        {
            "metadata": {},
            "cell_type": "code",
            "source": "column1 = [1,2,3,4,5,6,7,8,9,10]\ncolumn2 = [7,6,5,4,5,6,7,8,9,10]\n\nfrom numpy import cov\ncovariance = cov(column1,column2)[0][1]\n\ncorrelation = covariance/(stdev1*stdev2)\nprint(correlation)                               ## Find the correlation",
            "execution_count": 116,
            "outputs": [
                {
                    "output_type": "stream",
                    "text": "0.7092729120837249\n",
                    "name": "stdout"
                }
            ]
        },
        {
            "metadata": {},
            "cell_type": "code",
            "source": "print(covariance)",
            "execution_count": 117,
            "outputs": [
                {
                    "output_type": "stream",
                    "text": "4.055555555555555\n",
                    "name": "stdout"
                }
            ]
        },
        {
            "metadata": {},
            "cell_type": "code",
            "source": "column1 = [1,2,3,4,5,6,7]\ncolumn2 = [7,6,5,4,5,6,7]\n\nfrom numpy import cov\ncovariance1 = cov(column1,column2)[0][1]\nprint(covariance1)",
            "execution_count": 118,
            "outputs": [
                {
                    "output_type": "stream",
                    "text": "0.0\n",
                    "name": "stdout"
                }
            ]
        },
        {
            "metadata": {},
            "cell_type": "code",
            "source": "",
            "execution_count": null,
            "outputs": []
        }
    ],
    "metadata": {
        "kernelspec": {
            "name": "python3",
            "display_name": "Python 3.6",
            "language": "python"
        },
        "language_info": {
            "name": "python",
            "version": "3.6.9",
            "mimetype": "text/x-python",
            "codemirror_mode": {
                "name": "ipython",
                "version": 3
            },
            "pygments_lexer": "ipython3",
            "nbconvert_exporter": "python",
            "file_extension": ".py"
        }
    },
    "nbformat": 4,
    "nbformat_minor": 1
}